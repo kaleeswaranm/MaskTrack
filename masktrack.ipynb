{
  "nbformat": 4,
  "nbformat_minor": 0,
  "metadata": {
    "colab": {
      "name": "masktrack.ipynb",
      "provenance": [],
      "collapsed_sections": [],
      "mount_file_id": "1km6OzF3MPa_GvwLPjrMgm2YzvKyA9Z7E",
      "authorship_tag": "ABX9TyMKGZWniPuq3/oV6uWuWpeX",
      "include_colab_link": true
    },
    "kernelspec": {
      "name": "python3",
      "display_name": "Python 3"
    },
    "language_info": {
      "name": "python"
    }
  },
  "cells": [
    {
      "cell_type": "markdown",
      "metadata": {
        "id": "view-in-github",
        "colab_type": "text"
      },
      "source": [
        "<a href=\"https://colab.research.google.com/github/kaleeswaranm/MaskTrack/blob/main/masktrack.ipynb\" target=\"_parent\"><img src=\"https://colab.research.google.com/assets/colab-badge.svg\" alt=\"Open In Colab\"/></a>"
      ]
    },
    {
      "cell_type": "code",
      "metadata": {
        "id": "SowSrYtWLK1Y"
      },
      "source": [
        "!mkdir data\n",
        "!unzip /content/drive/MyDrive/stryker/DAVIS2017-master.zip -d /content/data"
      ],
      "execution_count": null,
      "outputs": []
    },
    {
      "cell_type": "code",
      "metadata": {
        "id": "hVWjaEhkMiiC"
      },
      "source": [
        "#for image processing\n",
        "import cv2\n",
        "import matplotlib.pyplot as plt\n",
        "from PIL import Image\n",
        "import albumentations as A\n",
        "\n",
        "#for working with paths\n",
        "import glob\n",
        "import os\n",
        "\n",
        "#for array and numeric operations\n",
        "import math\n",
        "import numpy as np\n",
        "\n",
        "#for model train test\n",
        "from tensorflow.keras.models import *\n",
        "from tensorflow.keras.layers import *\n",
        "from tensorflow.keras.optimizers import Adam\n",
        "from tensorflow.keras.callbacks import ModelCheckpoint, LearningRateScheduler\n",
        "from tensorflow.keras import backend as K\n",
        "from tensorflow.keras.utils import to_categorical\n",
        "from tensorflow.keras.callbacks import *\n",
        "import tensorflow as tf\n",
        "\n",
        "#misc\n",
        "from tqdm import tqdm\n",
        "import random\n",
        "import pandas as pd\n",
        "random.seed(0)"
      ],
      "execution_count": 53,
      "outputs": []
    },
    {
      "cell_type": "code",
      "metadata": {
        "id": "WxQ9szRyTpJo"
      },
      "source": [
        "def conv2d_block(input_tensor, n_filters, kernel_size = 3, batchnorm = True):\n",
        "    \"\"\"Function to add 2 convolutional layers with the parameters passed to it\"\"\"\n",
        "\n",
        "    x = Conv2D(filters = n_filters, kernel_size = (kernel_size, kernel_size),\\\n",
        "              kernel_initializer = 'he_normal', padding = 'same')(input_tensor)\n",
        "    if batchnorm:\n",
        "        x = BatchNormalization()(x)\n",
        "    x = Activation('relu')(x)\n",
        "    \n",
        "    x = Conv2D(filters = n_filters, kernel_size = (kernel_size, kernel_size),\\\n",
        "              kernel_initializer = 'he_normal', padding = 'same')(input_tensor)\n",
        "    if batchnorm:\n",
        "        x = BatchNormalization()(x)\n",
        "    x = Activation('relu')(x)\n",
        "    \n",
        "    return x"
      ],
      "execution_count": 3,
      "outputs": []
    },
    {
      "cell_type": "code",
      "metadata": {
        "id": "VS5bFz2gTRTV"
      },
      "source": [
        "def get_unet(image_size, mask_size, n_filters = 32, dropout = 0.5, batchnorm = True, num_classes = 1):\n",
        "    \"\"\"Function to define the UNET Model\"\"\"\n",
        "\n",
        "    image_input = Input(shape=image_size)\n",
        "    mask_input = Input(shape=mask_size)\n",
        "    inputs = Concatenate(axis=-1)([image_input, mask_input])\n",
        "\n",
        "    c1 = conv2d_block(inputs, n_filters * 1, kernel_size = 3, batchnorm = batchnorm)\n",
        "    p1 = MaxPooling2D((2, 2))(c1)\n",
        "    p1 = Dropout(dropout)(p1)\n",
        "    \n",
        "    c2 = conv2d_block(p1, n_filters * 2, kernel_size = 3, batchnorm = batchnorm)\n",
        "    p2 = MaxPooling2D((2, 2))(c2)\n",
        "    p2 = Dropout(dropout)(p2)\n",
        "    \n",
        "    c3 = conv2d_block(p2, n_filters * 4, kernel_size = 3, batchnorm = batchnorm)\n",
        "    p3 = MaxPooling2D((2, 2))(c3)\n",
        "    p3 = Dropout(dropout)(p3)\n",
        "    \n",
        "    c4 = conv2d_block(p3, n_filters * 8, kernel_size = 3, batchnorm = batchnorm)\n",
        "    p4 = MaxPooling2D((2, 2))(c4)\n",
        "    p4 = Dropout(dropout)(p4)\n",
        "    \n",
        "    c5 = conv2d_block(p4, n_filters = n_filters * 16, kernel_size = 3, batchnorm = batchnorm)\n",
        "    \n",
        "    u6 = Conv2DTranspose(n_filters * 8, (3, 3), strides = (2, 2), padding = 'same')(c5)\n",
        "    u6 = concatenate([u6, c4])\n",
        "    u6 = Dropout(dropout)(u6)\n",
        "    c6 = conv2d_block(u6, n_filters * 8, kernel_size = 3, batchnorm = batchnorm)\n",
        "    \n",
        "    u7 = Conv2DTranspose(n_filters * 4, (3, 3), strides = (2, 2), padding = 'same')(c6)\n",
        "    u7 = concatenate([u7, c3])\n",
        "    u7 = Dropout(dropout)(u7)\n",
        "    c7 = conv2d_block(u7, n_filters * 4, kernel_size = 3, batchnorm = batchnorm)\n",
        "    \n",
        "    u8 = Conv2DTranspose(n_filters * 2, (3, 3), strides = (2, 2), padding = 'same')(c7)\n",
        "    u8 = concatenate([u8, c2])\n",
        "    u8 = Dropout(dropout)(u8)\n",
        "    c8 = conv2d_block(u8, n_filters * 2, kernel_size = 3, batchnorm = batchnorm)\n",
        "    \n",
        "    u9 = Conv2DTranspose(n_filters * 1, (3, 3), strides = (2, 2), padding = 'same')(c8)\n",
        "    u9 = concatenate([u9, c1])\n",
        "    u9 = Dropout(dropout)(u9)\n",
        "    c9 = conv2d_block(u9, n_filters * 1, kernel_size = 3, batchnorm = batchnorm)\n",
        "    \n",
        "    outputs = Conv2D(num_classes, (1, 1), activation='softmax')(c9)\n",
        "    model = Model(inputs=[image_input, mask_input], outputs=[outputs])\n",
        "    \n",
        "    return model"
      ],
      "execution_count": 4,
      "outputs": []
    },
    {
      "cell_type": "code",
      "metadata": {
        "id": "fvTRK1dZTho2"
      },
      "source": [
        "temp_image = '/content/data/DAVIS2017-master/Train_Annotated/hockey/00012.png'\n",
        "img = cv2.imread(temp_image)[:,:,::-1]"
      ],
      "execution_count": 5,
      "outputs": []
    },
    {
      "cell_type": "code",
      "metadata": {
        "id": "0mJXrPF3gspw"
      },
      "source": [
        "def get_unique(img):\n",
        "  a = np.copy(img)\n",
        "  h, w, c = a.shape\n",
        "  a = a.reshape((h * w, c))\n",
        "  unique, counts = np.unique(a, return_counts=True, axis=0)\n",
        "  return unique\n",
        "\n",
        "unique = get_unique(img)"
      ],
      "execution_count": 6,
      "outputs": []
    },
    {
      "cell_type": "code",
      "metadata": {
        "id": "hVxZ9esckcjY"
      },
      "source": [
        "def get_individual_masks_updated(unique, img):\n",
        "  individual_masks = []\n",
        "  for unique_pixel in unique:\n",
        "    if not (unique_pixel == np.array([0, 0, 0])).all():\n",
        "      copy_image = img.copy()\n",
        "      idx = np.where((copy_image != unique_pixel).any(axis=-1))\n",
        "      copy_image[idx[0], idx[1], :] = np.array([0, 0, 0], dtype=np.uint8)\n",
        "      individual_masks.append(copy_image)\n",
        "  return individual_masks\n",
        "\n",
        "individual_masks = get_individual_masks_updated(unique, img)"
      ],
      "execution_count": 7,
      "outputs": []
    },
    {
      "cell_type": "code",
      "metadata": {
        "id": "cAi2Oq5_g5NA"
      },
      "source": [
        "def get_individual_masks(unique, img):\n",
        "  individual_masks = []\n",
        "  for unique_pixel in unique:\n",
        "    print(unique_pixel)\n",
        "    if not (unique_pixel == np.array([0, 0, 0])).all():\n",
        "      copy_image = img.copy()\n",
        "      for i in range(copy_image.shape[0]):\n",
        "        for j in range(copy_image.shape[1]):\n",
        "          if (copy_image[i, j, :] == unique_pixel).all():\n",
        "            copy_image[i, j, :] = np.array([0, 0, 0])\n",
        "      individual_masks.append(copy_image)\n",
        "  return individual_masks"
      ],
      "execution_count": 8,
      "outputs": []
    },
    {
      "cell_type": "code",
      "metadata": {
        "id": "zLJWPOkv6QFX"
      },
      "source": [
        "def convert_mask_updated(mask):\n",
        "  arr_2d = np.ones((mask.shape[0], mask.shape[1]), dtype=np.uint8)\n",
        "  idx = np.argwhere((mask == np.array([0, 0, 0])).all(axis=-1))\n",
        "  arr_2d[(idx[:,0]), idx[:,1]] = 0\n",
        "  return arr_2d"
      ],
      "execution_count": 9,
      "outputs": []
    },
    {
      "cell_type": "code",
      "metadata": {
        "id": "Nvu8wKLy3j7p"
      },
      "source": [
        "def convert_mask(mask):\n",
        "  arr_2d = np.ones((mask.shape[0], mask.shape[1]), dtype=np.uint8)\n",
        "  for i in range(mask.shape[0]):\n",
        "    for j in range(mask.shape[1]):\n",
        "      if (mask[i, j, :] == np.array([0, 0, 0])).all():\n",
        "        arr_2d[i, j] = 0\n",
        "  return arr_2d"
      ],
      "execution_count": 10,
      "outputs": []
    },
    {
      "cell_type": "code",
      "metadata": {
        "colab": {
          "base_uri": "https://localhost:8080/",
          "height": 149
        },
        "id": "uEW1vOsgpUsn",
        "outputId": "8e937493-7c23-4ff2-c48c-e4199ae8897b"
      },
      "source": [
        "f, ax = plt.subplots(1, len(individual_masks) + 1, figsize=(16, 16))\n",
        "ax[0].imshow(img)\n",
        "for i in range(len(individual_masks)):\n",
        "  ax[i + 1].imshow(individual_masks[i])"
      ],
      "execution_count": 11,
      "outputs": [
        {
          "output_type": "display_data",
          "data": {
            "image/png": "[encoded data removed]",
            "text/plain": [
              "<Figure size 1152x1152 with 4 Axes>"
            ]
          },
          "metadata": {
            "needs_background": "light"
          }
        }
      ]
    },
    {
      "cell_type": "code",
      "metadata": {
        "id": "qAyzv5I2yShb"
      },
      "source": [
        "temp_mask = individual_masks[1]\n",
        "copy_temp_mask = temp_mask.copy()\n",
        "mask_unique = get_unique(copy_temp_mask)\n",
        "mask_unique = [a for a in list(mask_unique) if not (a == np.array([0, 0, 0])).all()]"
      ],
      "execution_count": 12,
      "outputs": []
    },
    {
      "cell_type": "code",
      "metadata": {
        "id": "yM0vCH-X3qS-"
      },
      "source": [
        "pos = np.where((copy_temp_mask == mask_unique).all(axis=-1))\n",
        "start_index = (min(pos[1]), min(pos[0]))\n",
        "end_index = (max(pos[1]), max(pos[0]))"
      ],
      "execution_count": 14,
      "outputs": []
    },
    {
      "cell_type": "code",
      "metadata": {
        "colab": {
          "base_uri": "https://localhost:8080/",
          "height": 257
        },
        "id": "jRFFsezv4W4z",
        "outputId": "3541c25d-b2f8-4c7a-c3cc-0eb44563889e"
      },
      "source": [
        "plt.imshow(cv2.rectangle(copy_temp_mask, start_index, end_index, (255, 0, 0), 2))"
      ],
      "execution_count": 15,
      "outputs": [
        {
          "output_type": "execute_result",
          "data": {
            "text/plain": [
              "<matplotlib.image.AxesImage at 0x7f5d3799f190>"
            ]
          },
          "metadata": {},
          "execution_count": 15
        },
        {
          "output_type": "display_data",
          "data": {
            "image/png": "[encoded data removed]",
            "text/plain": [
              "<Figure size 432x288 with 1 Axes>"
            ]
          },
          "metadata": {
            "needs_background": "light"
          }
        }
      ]
    },
    {
      "cell_type": "code",
      "metadata": {
        "id": "YDZuOTq55XHi"
      },
      "source": [
        "x_size = end_index[0] - start_index[0]\n",
        "y_size = end_index[1] - start_index[1]"
      ],
      "execution_count": 16,
      "outputs": []
    },
    {
      "cell_type": "code",
      "metadata": {
        "id": "bNq_Rn3L1JwK"
      },
      "source": [
        "def horizontal_shift(img, x_size, y_size):\n",
        "  rint = random.randint(0, 10)\n",
        "  move_pixels = int(rint * 0.01 * x_size)\n",
        "  num_rows, num_cols = img.shape[:2]\n",
        "  l_or_r = random.randint(0, 1)\n",
        "  if l_or_r == 0:\n",
        "    translation_matrix = np.float32([[1,0,-1 * move_pixels], [0,1,0]])\n",
        "  else:\n",
        "    translation_matrix = np.float32([[1,0,move_pixels], [0,1,0]])\n",
        "  aug_img = cv2.warpAffine(img, translation_matrix, (num_cols,num_rows))\n",
        "  return aug_img"
      ],
      "execution_count": 17,
      "outputs": []
    },
    {
      "cell_type": "code",
      "metadata": {
        "id": "O2pbmVF2OXxn"
      },
      "source": [
        "def thin_plate_splines(img):\n",
        "  N=5\n",
        "  points=[]\n",
        "  dx=int(180/(N-1))\n",
        "  for i in range(2*N):\n",
        "      points.append((dx*i,4))\n",
        "      points.append((dx*i,36))\n",
        "  # Widen a circle around\n",
        "  img = cv2.copyMakeBorder(img,4,4,0,0,cv2.BORDER_REPLICATE)\n",
        "\n",
        "  tps = cv2.createThinPlateSplineShapeTransformer()\n",
        "\n",
        "  sourceshape = np.array(points,np.int32)\n",
        "  sourceshape=sourceshape.reshape(1,-1,2)\n",
        "  matches =[]\n",
        "  for i in range(1,N+1):\n",
        "      matches.append(cv2.DMatch(i,i,0))\n",
        "\n",
        "  # Start random changes\n",
        "  newpoints=[]\n",
        "  PADDINGSIZ=5\n",
        "  for i in range(N):\n",
        "      nx=points[i][0]+random.randint(0,PADDINGSIZ)-PADDINGSIZ/2\n",
        "      ny=points[i][1]+random.randint(0,PADDINGSIZ)-PADDINGSIZ/2\n",
        "      newpoints.append((nx,ny))\n",
        "  #print(points,newpoints)\n",
        "  targetshape = np.array(newpoints,np.int32)\n",
        "  targetshape=targetshape.reshape(1,-1,2)\n",
        "  tps.estimateTransformation(sourceshape,targetshape,matches)\n",
        "  img=tps.warpImage(img)\n",
        "  return img"
      ],
      "execution_count": 18,
      "outputs": []
    },
    {
      "cell_type": "code",
      "metadata": {
        "id": "-ZiqITNsBC_c"
      },
      "source": [
        "def dilation(img):\n",
        "  kernel = np.ones((5,5), np.uint8)\n",
        "  aug_img = cv2.dilate(img, kernel, iterations=1)\n",
        "  return aug_img"
      ],
      "execution_count": 19,
      "outputs": []
    },
    {
      "cell_type": "code",
      "metadata": {
        "id": "1mj3TIUuZnVD"
      },
      "source": [
        "def augmentation(mask):\n",
        "  mask_unique = get_unique(mask)\n",
        "  mask_unique = [a for a in list(mask_unique) if not (a == np.array([0, 0, 0])).all()]\n",
        "  pos = np.where((mask == mask_unique).all(axis=-1))\n",
        "  start_index = (min(pos[1]), min(pos[0]))\n",
        "  end_index = (max(pos[1]), max(pos[0]))\n",
        "  x_size = end_index[0] - start_index[0]\n",
        "  y_size = end_index[1] - start_index[1]\n",
        "  aug_mask = horizontal_shift(mask, x_size, y_size)\n",
        "  aug_mask = thin_plate_splines(aug_mask)\n",
        "  aug_mask = dilation(aug_mask)\n",
        "  return aug_mask"
      ],
      "execution_count": 29,
      "outputs": []
    },
    {
      "cell_type": "code",
      "metadata": {
        "colab": {
          "base_uri": "https://localhost:8080/",
          "height": 279
        },
        "id": "zdjrQ9ixlEMg",
        "outputId": "d31656f3-a1a9-4d02-aa0d-0274038d1cca"
      },
      "source": [
        "aug_mask = augmentation(temp_mask)\n",
        "f, ax = plt.subplots(1, 2, figsize=(16, 16))\n",
        "ax[0].imshow(cv2.rectangle(temp_mask.copy(), start_index, end_index, (255, 0, 0), 2))\n",
        "ax[1].imshow(cv2.rectangle(aug_mask.copy(), start_index, end_index, (255, 0, 0), 2))"
      ],
      "execution_count": 21,
      "outputs": [
        {
          "output_type": "execute_result",
          "data": {
            "text/plain": [
              "<matplotlib.image.AxesImage at 0x7f5d37e88210>"
            ]
          },
          "metadata": {},
          "execution_count": 21
        },
        {
          "output_type": "display_data",
          "data": {
            "image/png": "[encoded data removed]",
            "text/plain": [
              "<Figure size 1152x1152 with 2 Axes>"
            ]
          },
          "metadata": {
            "needs_background": "light"
          }
        }
      ]
    },
    {
      "cell_type": "code",
      "metadata": {
        "id": "brhLnwNbumSe"
      },
      "source": [
        "val_split = 0.1\n",
        "steps = 2000\n",
        "batch_size = 8\n",
        "target_size = (512, 512)"
      ],
      "execution_count": 46,
      "outputs": []
    },
    {
      "cell_type": "code",
      "metadata": {
        "id": "pHW4FR_ju_KA"
      },
      "source": [
        "all_image_sets = sorted(glob.glob('/content/data/DAVIS2017-master/Train/*'))\n",
        "all_mask_sets = sorted(glob.glob('/content/data/DAVIS2017-master/Train_Annotated/*'))\n",
        "train_image_sets, train_mask_sets = zip(*random.Random(1).sample(list(zip(all_image_sets, all_mask_sets)), int((1 - val_split) * len(all_image_sets))))\n",
        "val_image_sets = sorted(list(set(all_image_sets) - set(train_image_sets)))\n",
        "val_mask_sets = sorted(list(set(all_mask_sets) - set(train_mask_sets)))"
      ],
      "execution_count": 95,
      "outputs": []
    },
    {
      "cell_type": "code",
      "metadata": {
        "id": "5P3Nax0Q95G-"
      },
      "source": [
        "train_image_paths = [glob.glob(train_set + '/*') for train_set in train_image_sets]\n",
        "train_image_paths = sorted([a for b in train_image_paths for a in b])\n",
        "train_mask_paths = [glob.glob(train_set + '/*') for train_set in train_mask_sets]\n",
        "train_mask_paths = sorted([a for b in train_mask_paths for a in b])\n",
        "combined = list(zip(train_image_paths, train_mask_paths))\n",
        "random.Random(1).shuffle(combined)\n",
        "train_image_paths, train_mask_paths = zip(*combined)"
      ],
      "execution_count": 96,
      "outputs": []
    },
    {
      "cell_type": "code",
      "metadata": {
        "id": "bAvAqIQZ3FBd"
      },
      "source": [
        "iteration = 0\n",
        "i = 0\n",
        "while iteration <= steps:\n",
        "  batch_image_stack = []\n",
        "  batch_mask_stack = []\n",
        "  batch_aug_mask_stack = []\n",
        "  while len(batch_image_stack) <= (batch_size - 1):\n",
        "    if ((len(train_image_paths) - i) // batch_size) == 0:\n",
        "      i = 0\n",
        "      combined = list(zip(train_image_paths, train_mask_paths))\n",
        "      random.shuffle(combined)\n",
        "      train_image_paths, train_mask_paths = zip(*combined)\n",
        "    img = cv2.imread(train_image_paths[i])[:,:,::-1]\n",
        "    img = cv2.resize(img, (target_size[1], target_size[0]))\n",
        "    mask = cv2.imread(train_mask_paths[i])[:,:,::-1]\n",
        "    unique = get_unique(mask)\n",
        "    individual_masks = get_individual_masks_updated(unique, mask)\n",
        "    for individual_mask in individual_masks:\n",
        "      aug_mask = augmentation(individual_mask)\n",
        "      aug_2d_mask = convert_mask_updated(aug_mask)\n",
        "      aug_2d_mask = cv2.resize(aug_2d_mask, (target_size[1], target_size[0]))\n",
        "      individual_2d_mask = convert_mask_updated(individual_mask)\n",
        "      individual_2d_mask = cv2.resize(individual_2d_mask, (target_size[1], target_size[0]))\n",
        "      if len(batch_image_stack) <= (batch_size - 1):\n",
        "        batch_image_stack.append(img)\n",
        "        batch_mask_stack.append(individual_2d_mask)\n",
        "        batch_aug_mask_stack.append(aug_2d_mask)\n",
        "    i += 1\n",
        "  break"
      ],
      "execution_count": 97,
      "outputs": []
    },
    {
      "cell_type": "code",
      "metadata": {
        "colab": {
          "base_uri": "https://localhost:8080/",
          "height": 487
        },
        "id": "yMiQjGKSbc8j",
        "outputId": "8e4771e4-fe2b-49ba-f7d6-e552ef94ed4c"
      },
      "source": [
        "f, ax = plt.subplots(batch_size, 3, figsize=(8, 8))\n",
        "for i in range(batch_size):\n",
        "  ax[i][0].imshow(batch_image_stack[i])\n",
        "  ax[i][1].imshow(batch_mask_stack[i])\n",
        "  ax[i][2].imshow(batch_aug_mask_stack[i])"
      ],
      "execution_count": 98,
      "outputs": [
        {
          "output_type": "display_data",
          "data": {
            "image/png": "[encoded data removed]",
            "text/plain": [
              "<Figure size 576x576 with 24 Axes>"
            ]
          },
          "metadata": {
            "needs_background": "light"
          }
        }
      ]
    },
    {
      "cell_type": "code",
      "metadata": {
        "id": "qDku46OCAyXu"
      },
      "source": [
        "augmentations_per_image = 3"
      ],
      "execution_count": 221,
      "outputs": []
    },
    {
      "cell_type": "code",
      "metadata": {
        "id": "LRXGHzxZXllz"
      },
      "source": [
        "def make_dirs(path):\n",
        "  if not os.path.exists(path):\n",
        "    os.makedirs(path)\n",
        "  \n",
        "def change_path(path, original_folder, replace_folder, data_type, counter=None, save_np=False):\n",
        "  path = path.replace('data/DAVIS2017-master', data_type)\n",
        "  path = path.replace(original_folder, replace_folder)\n",
        "  folder_name = os.path.dirname(path)\n",
        "  file_name = os.path.basename(path)\n",
        "  make_dirs(folder_name)\n",
        "  if counter:\n",
        "    new_file_name = '{}_{}.{}'.format(file_name.split('.')[0], \n",
        "                                      str(counter).zfill(6), \n",
        "                                      file_name.split('.')[-1])\n",
        "  else:\n",
        "    new_file_name = '{}.{}'.format(file_name.split('.')[0], \n",
        "                                   file_name.split('.')[-1])\n",
        "  dest_path = os.path.join(folder_name, new_file_name)\n",
        "  if not save_np:\n",
        "    return dest_path.replace('.png', '.jpg')\n",
        "  else:\n",
        "    return dest_path.replace('.png', '.npy').replace('.jpg', '.npy')"
      ],
      "execution_count": 203,
      "outputs": []
    },
    {
      "cell_type": "code",
      "metadata": {
        "id": "ctgut6-oVrvz"
      },
      "source": [
        "def generate_data(image_path, mask_path, target_size, augmentations_per_image, data_type):\n",
        "  image_path_list = []\n",
        "  mask_path_list = []\n",
        "  aug_mask_path_list = []\n",
        "  image_dest_path = change_path(image_path, 'Train', 'images', data_type)\n",
        "  img = cv2.imread(image_path)[:,:,::-1]\n",
        "  img = cv2.resize(img, (target_size[1], target_size[0]))\n",
        "  cv2.imwrite(image_dest_path, img)\n",
        "  Image.fromarray(img).save(image_dest_path)\n",
        "  mask = cv2.imread(mask_path)[:,:,::-1]\n",
        "  unique = get_unique(mask)\n",
        "  individual_masks = get_individual_masks_updated(unique, mask)\n",
        "  for mask_counter, individual_mask in enumerate(individual_masks):\n",
        "    mask_dest_path = change_path(mask_path, 'Train_Annotated', 'masks', \n",
        "                                 data_type, mask_counter + 1, True)\n",
        "    individual_2d_mask = convert_mask_updated(individual_mask)\n",
        "    individual_2d_mask = cv2.resize(individual_2d_mask, (target_size[1], target_size[0]))\n",
        "    np.save(mask_dest_path, to_categorical(individual_2d_mask, num_classes=2))\n",
        "    for augmentation_counter in range(augmentations_per_image):\n",
        "      aug_mask_dest_path = change_path(mask_dest_path, 'masks', 'augmented_masks', \n",
        "                                       data_type, augmentation_counter + 1, True)\n",
        "      aug_mask = augmentation(individual_mask)\n",
        "      aug_2d_mask = convert_mask_updated(aug_mask)\n",
        "      aug_2d_mask = cv2.resize(aug_2d_mask, (target_size[1], target_size[0]))\n",
        "      np.save(aug_mask_dest_path, to_categorical(aug_2d_mask, num_classes=2))\n",
        "      image_path_list.append(image_dest_path)\n",
        "      mask_path_list.append(mask_dest_path)\n",
        "      aug_mask_path_list.append(aug_mask_dest_path)\n",
        "  return image_path_list, mask_path_list, aug_mask_path_list"
      ],
      "execution_count": 218,
      "outputs": []
    },
    {
      "cell_type": "code",
      "metadata": {
        "id": "zKGBiOT-uTsB"
      },
      "source": [
        "!rm -rf /content/train_data"
      ],
      "execution_count": 219,
      "outputs": []
    },
    {
      "cell_type": "code",
      "metadata": {
        "id": "vEPV41mfkZzt"
      },
      "source": [
        "train_img = []\n",
        "train_mask = []\n",
        "train_aug_mask = []\n",
        "for i in tqdm(range(len(train_image_paths))):\n",
        "  image_path_list, mask_path_list, aug_mask_path_list = generate_data(train_image_paths[i], train_mask_paths[i], \n",
        "                                                                      target_size, augmentations_per_image, 'train_data')\n",
        "  train_img.extend(image_path_list)\n",
        "  train_mask.extend(mask_path_list)\n",
        "  train_aug_mask.extend(aug_mask_path_list)"
      ],
      "execution_count": null,
      "outputs": []
    },
    {
      "cell_type": "code",
      "metadata": {
        "id": "Cep2EeyLhOOb"
      },
      "source": [
        "def multi(train_image_paths, train_mask_paths, target_size, augmentations_per_image, data_type, split):\n",
        "  image_path_list, mask_path_list, aug_mask_path_list = "
      ],
      "execution_count": null,
      "outputs": []
    },
    {
      "cell_type": "code",
      "metadata": {
        "colab": {
          "base_uri": "https://localhost:8080/"
        },
        "id": "6iDPb61hab_f",
        "outputId": "2832d05b-65eb-45d9-a7b3-30c84a551648"
      },
      "source": [
        "import multiprocessing as mp\n",
        "split = np.array_split(list(range(len(train_image_paths))), mp.cpu_count())\n"
      ],
      "execution_count": 226,
      "outputs": [
        {
          "output_type": "execute_result",
          "data": {
            "text/plain": [
              "[array([   0,    1,    2, ..., 2821, 2822, 2823]),\n",
              " array([2824, 2825, 2826, ..., 5645, 5646, 5647])]"
            ]
          },
          "metadata": {},
          "execution_count": 226
        }
      ]
    },
    {
      "cell_type": "code",
      "metadata": {
        "id": "hMLOCKs_gwDd"
      },
      "source": [
        ""
      ],
      "execution_count": null,
      "outputs": []
    }
  ]
}