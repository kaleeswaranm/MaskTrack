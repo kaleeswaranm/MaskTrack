{
  "nbformat": 4,
  "nbformat_minor": 0,
  "metadata": {
    "colab": {
      "name": "masktrack.ipynb",
      "provenance": [],
      "collapsed_sections": [],
      "mount_file_id": "1km6OzF3MPa_GvwLPjrMgm2YzvKyA9Z7E",
      "authorship_tag": "ABX9TyOGQ2kXictN9eysxngavdo7",
      "include_colab_link": true
    },
    "kernelspec": {
      "name": "python3",
      "display_name": "Python 3"
    },
    "language_info": {
      "name": "python"
    }
  },
  "cells": [
    {
      "cell_type": "markdown",
      "metadata": {
        "id": "view-in-github",
        "colab_type": "text"
      },
      "source": [
        "<a href=\"https://colab.research.google.com/github/kaleeswaranm/MaskTrack/blob/main/masktrack.ipynb\" target=\"_parent\"><img src=\"https://colab.research.google.com/assets/colab-badge.svg\" alt=\"Open In Colab\"/></a>"
      ]
    },
    {
      "cell_type": "code",
      "metadata": {
        "id": "SowSrYtWLK1Y"
      },
      "source": [
        "!mkdir data\n",
        "!unzip /content/drive/MyDrive/stryker/DAVIS2017-master.zip -d /content/data"
      ],
      "execution_count": null,
      "outputs": []
    },
    {
      "cell_type": "code",
      "metadata": {
        "id": "hVWjaEhkMiiC"
      },
      "source": [
        "#for image processing\n",
        "import cv2\n",
        "import matplotlib.pyplot as plt\n",
        "from PIL import Image\n",
        "import albumentations as A\n",
        "\n",
        "#for working with paths\n",
        "import glob\n",
        "import os\n",
        "\n",
        "#for array and numeric operations\n",
        "import math\n",
        "import numpy as np\n",
        "\n",
        "#for model train test\n",
        "from tensorflow.keras.models import *\n",
        "from tensorflow.keras.layers import *\n",
        "from tensorflow.keras.optimizers import Adam\n",
        "from tensorflow.keras.callbacks import ModelCheckpoint, LearningRateScheduler\n",
        "from tensorflow.keras import backend as K\n",
        "from tensorflow.keras.utils import to_categorical\n",
        "from tensorflow.keras.callbacks import *\n",
        "import tensorflow as tf\n",
        "\n",
        "#misc\n",
        "from tqdm import tqdm\n",
        "import random\n",
        "import pandas as pd"
      ],
      "execution_count": 2,
      "outputs": []
    },
    {
      "cell_type": "code",
      "metadata": {
        "id": "WxQ9szRyTpJo"
      },
      "source": [
        "def conv2d_block(input_tensor, n_filters, kernel_size = 3, batchnorm = True):\n",
        "    \"\"\"Function to add 2 convolutional layers with the parameters passed to it\"\"\"\n",
        "\n",
        "    x = Conv2D(filters = n_filters, kernel_size = (kernel_size, kernel_size),\\\n",
        "              kernel_initializer = 'he_normal', padding = 'same')(input_tensor)\n",
        "    if batchnorm:\n",
        "        x = BatchNormalization()(x)\n",
        "    x = Activation('relu')(x)\n",
        "    \n",
        "    x = Conv2D(filters = n_filters, kernel_size = (kernel_size, kernel_size),\\\n",
        "              kernel_initializer = 'he_normal', padding = 'same')(input_tensor)\n",
        "    if batchnorm:\n",
        "        x = BatchNormalization()(x)\n",
        "    x = Activation('relu')(x)\n",
        "    \n",
        "    return x"
      ],
      "execution_count": 3,
      "outputs": []
    },
    {
      "cell_type": "code",
      "metadata": {
        "id": "VS5bFz2gTRTV"
      },
      "source": [
        "def get_unet(input_size, n_filters = 32, dropout = 0.5, batchnorm = True, num_classes = 1):\n",
        "    \"\"\"Function to define the UNET Model\"\"\"\n",
        "\n",
        "    inputs = Input(shape=input_size)\n",
        "    c1 = conv2d_block(inputs, n_filters * 1, kernel_size = 3, batchnorm = batchnorm)\n",
        "    p1 = MaxPooling2D((2, 2))(c1)\n",
        "    p1 = Dropout(dropout)(p1)\n",
        "    \n",
        "    c2 = conv2d_block(p1, n_filters * 2, kernel_size = 3, batchnorm = batchnorm)\n",
        "    p2 = MaxPooling2D((2, 2))(c2)\n",
        "    p2 = Dropout(dropout)(p2)\n",
        "    \n",
        "    c3 = conv2d_block(p2, n_filters * 4, kernel_size = 3, batchnorm = batchnorm)\n",
        "    p3 = MaxPooling2D((2, 2))(c3)\n",
        "    p3 = Dropout(dropout)(p3)\n",
        "    \n",
        "    c4 = conv2d_block(p3, n_filters * 8, kernel_size = 3, batchnorm = batchnorm)\n",
        "    p4 = MaxPooling2D((2, 2))(c4)\n",
        "    p4 = Dropout(dropout)(p4)\n",
        "    \n",
        "    c5 = conv2d_block(p4, n_filters = n_filters * 16, kernel_size = 3, batchnorm = batchnorm)\n",
        "    \n",
        "    u6 = Conv2DTranspose(n_filters * 8, (3, 3), strides = (2, 2), padding = 'same')(c5)\n",
        "    u6 = concatenate([u6, c4])\n",
        "    u6 = Dropout(dropout)(u6)\n",
        "    c6 = conv2d_block(u6, n_filters * 8, kernel_size = 3, batchnorm = batchnorm)\n",
        "    \n",
        "    u7 = Conv2DTranspose(n_filters * 4, (3, 3), strides = (2, 2), padding = 'same')(c6)\n",
        "    u7 = concatenate([u7, c3])\n",
        "    u7 = Dropout(dropout)(u7)\n",
        "    c7 = conv2d_block(u7, n_filters * 4, kernel_size = 3, batchnorm = batchnorm)\n",
        "    \n",
        "    u8 = Conv2DTranspose(n_filters * 2, (3, 3), strides = (2, 2), padding = 'same')(c7)\n",
        "    u8 = concatenate([u8, c2])\n",
        "    u8 = Dropout(dropout)(u8)\n",
        "    c8 = conv2d_block(u8, n_filters * 2, kernel_size = 3, batchnorm = batchnorm)\n",
        "    \n",
        "    u9 = Conv2DTranspose(n_filters * 1, (3, 3), strides = (2, 2), padding = 'same')(c8)\n",
        "    u9 = concatenate([u9, c1])\n",
        "    u9 = Dropout(dropout)(u9)\n",
        "    c9 = conv2d_block(u9, n_filters * 1, kernel_size = 3, batchnorm = batchnorm)\n",
        "    \n",
        "    outputs = Conv2D(num_classes, (1, 1), activation='sigmoid')(c9)\n",
        "    model = Model(inputs=[inputs], outputs=[outputs])\n",
        "    \n",
        "    return model"
      ],
      "execution_count": 4,
      "outputs": []
    },
    {
      "cell_type": "code",
      "metadata": {
        "id": "fvTRK1dZTho2"
      },
      "source": [
        "temp_image = '/content/data/DAVIS2017-master/Train_Annotated/bike-packing/00012.png'\n",
        "img = cv2.imread(temp_image)[:,:,::-1]"
      ],
      "execution_count": 5,
      "outputs": []
    },
    {
      "cell_type": "code",
      "metadata": {
        "id": "0mJXrPF3gspw"
      },
      "source": [
        "def get_unique(img):\n",
        "  a = np.copy(img)\n",
        "  h, w, c = a.shape\n",
        "  a = a.reshape((h * w, c))\n",
        "  unique, counts = np.unique(a, return_counts=True, axis=0)\n",
        "  return unique\n",
        "\n",
        "unique = get_unique(img)"
      ],
      "execution_count": 6,
      "outputs": []
    },
    {
      "cell_type": "code",
      "metadata": {
        "id": "cAi2Oq5_g5NA"
      },
      "source": [
        "individual_masks = []\n",
        "for unique_pixel in unique:\n",
        "  if not (unique_pixel == np.array([0, 0, 0])).all():\n",
        "    copy_image = img.copy()\n",
        "    for i in range(copy_image.shape[0]):\n",
        "      for j in range(copy_image.shape[1]):\n",
        "        if (copy_image[i, j, :] == unique_pixel).all():\n",
        "          copy_image[i, j, :] = np.array([0, 0, 0])\n",
        "    individual_masks.append(copy_image)"
      ],
      "execution_count": 7,
      "outputs": []
    },
    {
      "cell_type": "code",
      "metadata": {
        "colab": {
          "base_uri": "https://localhost:8080/",
          "height": 176
        },
        "id": "uEW1vOsgpUsn",
        "outputId": "9fb07bb3-0d80-4a86-8cd3-881ecd2a5f1c"
      },
      "source": [
        "f, ax = plt.subplots(1, len(individual_masks) + 1, figsize=(16, 16))\n",
        "ax[0].imshow(img)\n",
        "for i in range(len(individual_masks)):\n",
        "  ax[i + 1].imshow(individual_masks[i])"
      ],
      "execution_count": 8,
      "outputs": [
        {
          "output_type": "display_data",
          "data": {
            "image/png": "[encoded data removed]",
            "text/plain": [
              "<Figure size 1152x1152 with 3 Axes>"
            ]
          },
          "metadata": {
            "needs_background": "light"
          }
        }
      ]
    },
    {
      "cell_type": "code",
      "metadata": {
        "id": "qAyzv5I2yShb"
      },
      "source": [
        "temp_mask = individual_masks[1]\n",
        "copy_temp_mask = temp_mask.copy()\n",
        "mask_unique = get_unique(copy_temp_mask)\n",
        "mask_unique = [a for a in list(mask_unique) if not (a == np.array([0, 0, 0])).all()]"
      ],
      "execution_count": 9,
      "outputs": []
    },
    {
      "cell_type": "code",
      "metadata": {
        "id": "yM0vCH-X3qS-"
      },
      "source": [
        "pos = np.where((copy_temp_mask == mask_unique).all(axis=-1))\n",
        "start_index = (min(pos[1]), min(pos[0]))\n",
        "end_index = (max(pos[1]), max(pos[0]))"
      ],
      "execution_count": 10,
      "outputs": []
    },
    {
      "cell_type": "code",
      "metadata": {
        "colab": {
          "base_uri": "https://localhost:8080/",
          "height": 245
        },
        "id": "jRFFsezv4W4z",
        "outputId": "0e04433c-e955-4511-8802-43200c958374"
      },
      "source": [
        "plt.imshow(cv2.rectangle(copy_temp_mask, start_index, end_index, (255, 0, 0), 2))"
      ],
      "execution_count": 11,
      "outputs": [
        {
          "output_type": "execute_result",
          "data": {
            "text/plain": [
              "<matplotlib.image.AxesImage at 0x7f340dc33f10>"
            ]
          },
          "metadata": {},
          "execution_count": 11
        },
        {
          "output_type": "display_data",
          "data": {
            "image/png": "[encoded data removed]",
            "text/plain": [
              "<Figure size 432x288 with 1 Axes>"
            ]
          },
          "metadata": {
            "needs_background": "light"
          }
        }
      ]
    },
    {
      "cell_type": "code",
      "metadata": {
        "id": "YDZuOTq55XHi"
      },
      "source": [
        "x_size = end_index[0] - start_index[0]\n",
        "y_size = end_index[1] - start_index[1]"
      ],
      "execution_count": 12,
      "outputs": []
    },
    {
      "cell_type": "code",
      "metadata": {
        "colab": {
          "base_uri": "https://localhost:8080/"
        },
        "id": "O2pbmVF2OXxn",
        "outputId": "a57af79e-1d3c-47b5-9d5b-54f6579fc754"
      },
      "source": [
        "# N pair of reference control points\n",
        "img = temp_mask.copy()\n",
        "N=5\n",
        "points=[]\n",
        "dx=int(180/(N-1))\n",
        "for i in range(2*N):\n",
        "    points.append((dx*i,4))\n",
        "    points.append((dx*i,36))\n",
        "# Widen a circle around\n",
        "img = cv2.copyMakeBorder(img,4,4,0,0,cv2.BORDER_REPLICATE)\n",
        "# Draw a green circle\n",
        "# for point in points:\n",
        "# cv2.circle(img, point, 1, (0, 255, 0), 2)\n",
        "tps = cv2.createThinPlateSplineShapeTransformer()\n",
        "\n",
        "sourceshape = np.array(points,np.int32)\n",
        "sourceshape=sourceshape.reshape(1,-1,2)\n",
        "matches =[]\n",
        "for i in range(1,N+1):\n",
        "    matches.append(cv2.DMatch(i,i,0))\n",
        "\n",
        "# Start random changes\n",
        "newpoints=[]\n",
        "PADDINGSIZ=10\n",
        "for i in range(N):\n",
        "    nx=points[i][0]+random.randint(0,PADDINGSIZ)-PADDINGSIZ/2\n",
        "    ny=points[i][1]+random.randint(0,PADDINGSIZ)-PADDINGSIZ/2\n",
        "    newpoints.append((nx,ny))\n",
        "print(points,newpoints)\n",
        "targetshape = np.array(newpoints,np.int32)\n",
        "targetshape=targetshape.reshape(1,-1,2)\n",
        "tps.estimateTransformation(sourceshape,targetshape,matches)\n",
        "img=tps.warpImage(img)"
      ],
      "execution_count": 19,
      "outputs": [
        {
          "output_type": "stream",
          "name": "stdout",
          "text": [
            "[(0, 4), (0, 36), (45, 4), (45, 36), (90, 4), (90, 36), (135, 4), (135, 36), (180, 4), (180, 36), (225, 4), (225, 36), (270, 4), (270, 36), (315, 4), (315, 36), (360, 4), (360, 36), (405, 4), (405, 36)] [(-3.0, 1.0), (-2.0, 33.0), (50.0, 7.0), (45.0, 35.0), (91.0, -1.0)]\n"
          ]
        }
      ]
    },
    {
      "cell_type": "code",
      "metadata": {
        "colab": {
          "base_uri": "https://localhost:8080/",
          "height": 249
        },
        "id": "mbU7n3CNq_rW",
        "outputId": "41e74fca-f1e4-4fc7-b6ab-0e3691bc0500"
      },
      "source": [
        "plt.imshow(img)"
      ],
      "execution_count": 20,
      "outputs": [
        {
          "output_type": "execute_result",
          "data": {
            "text/plain": [
              "<matplotlib.image.AxesImage at 0x7f340cdb00d0>"
            ]
          },
          "metadata": {},
          "execution_count": 20
        },
        {
          "output_type": "display_data",
          "data": {
            "image/png": "[encoded data removed]",
            "text/plain": [
              "<Figure size 432x288 with 1 Axes>"
            ]
          },
          "metadata": {
            "needs_background": "light"
          }
        }
      ]
    },
    {
      "cell_type": "code",
      "metadata": {
        "colab": {
          "base_uri": "https://localhost:8080/",
          "height": 245
        },
        "id": "lK_499_GrCOZ",
        "outputId": "1a7c2ca6-c165-4e09-edca-36a7598d3874"
      },
      "source": [
        "plt.imshow(temp_mask)"
      ],
      "execution_count": 21,
      "outputs": [
        {
          "output_type": "execute_result",
          "data": {
            "text/plain": [
              "<matplotlib.image.AxesImage at 0x7f340cd0c850>"
            ]
          },
          "metadata": {},
          "execution_count": 21
        },
        {
          "output_type": "display_data",
          "data": {
            "image/png": "[encoded data removed]",
            "text/plain": [
              "<Figure size 432x288 with 1 Axes>"
            ]
          },
          "metadata": {
            "needs_background": "light"
          }
        }
      ]
    },
    {
      "cell_type": "code",
      "metadata": {
        "id": "9-tzcuQRrG0Z"
      },
      "source": [
        ""
      ],
      "execution_count": null,
      "outputs": []
    }
  ]
}